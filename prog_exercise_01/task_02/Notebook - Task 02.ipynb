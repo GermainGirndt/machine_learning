{
 "cells": [
  {
   "cell_type": "code",
   "execution_count": 1,
   "id": "a90e3ea5",
   "metadata": {
    "scrolled": false
   },
   "outputs": [],
   "source": [
    "# Machine Learning Assignment - Exercise 01\n",
    "# Prof. Klaus Berberich\n",
    "# Students:\n",
    "# Aaron Dassen\n",
    "# Jan Beckhausen\n",
    "# Germain Girndt"
   ]
  },
  {
   "cell_type": "code",
   "execution_count": 2,
   "id": "71afe93b",
   "metadata": {},
   "outputs": [],
   "source": [
    "# IMPORTS\n",
    "\n",
    "import pandas as pd\n",
    "import numpy as np\n",
    "from sklearn import linear_model\n",
    "from sklearn import model_selection\n",
    "from sklearn import metrics\n",
    "\n",
    "\n",
    "# DEFINITIONS\n",
    "\n",
    "# read the used cars CSV\n",
    "df = pd.read_csv('kaggle/true_car_listings.csv')\n",
    "\n",
    "def five_fold(X, y):\n",
    "    # this will contain the calculated RMSE values\n",
    "    rmse_values = []\n",
    "    \n",
    "    # construct 5-fold cross-validator\n",
    "    kf = model_selection.KFold(n_splits=5, shuffle=True)\n",
    "\n",
    "    for train_index, test_index in kf.split(X):\n",
    "        # construct our model\n",
    "        reg = linear_model.LinearRegression()\n",
    "        \n",
    "        # get training and test data\n",
    "        X_train, X_test = X.iloc[train_index], X.iloc[test_index]\n",
    "        y_train, y_test = y.iloc[train_index], y.iloc[test_index]\n",
    "        \n",
    "        # fit regression model\n",
    "        reg.fit(X_train, y_train)\n",
    "\n",
    "        # use test data to predict price\n",
    "        y_pred = reg.predict(X_test)\n",
    "\n",
    "        # calculate the root mean squared error (squared=False returns that) and\n",
    "        # add it to our list of rmse values\n",
    "        rmse_values.append(metrics.mean_squared_error(y_test, y_pred, squared=False))\n",
    "    \n",
    "    return rmse_values"
   ]
  },
  {
   "cell_type": "code",
   "execution_count": 3,
   "id": "1005d860",
   "metadata": {},
   "outputs": [
    {
     "name": "stdout",
     "output_type": "stream",
     "text": [
      "calculated RMSE mean: 12217.04634858092\n"
     ]
    }
   ],
   "source": [
    "# EXERCISE 1.2 a)\n",
    "\n",
    "# extract year and mileage as X, price as y\n",
    "X = df.iloc[:,[1,2]]\n",
    "y = df.iloc[:,0]\n",
    "\n",
    "# run five-fold cross-validation over X and y\n",
    "rmse_values = five_fold(X, y)\n",
    "\n",
    "# calculate the mean\n",
    "rmse_mean = np.mean(rmse_values)\n",
    "print(\"calculated RMSE mean:\", rmse_mean)"
   ]
  },
  {
   "cell_type": "code",
   "execution_count": 4,
   "id": "6dd392ec",
   "metadata": {},
   "outputs": [
    {
     "name": "stdout",
     "output_type": "stream",
     "text": [
      "calculated RMSE mean: 9386.688250214185\n"
     ]
    }
   ],
   "source": [
    "# EXERCISE 1.2 b)\n",
    "\n",
    "# add the state and make to the feature set\n",
    "X = pd.concat([df.iloc[:,[1,2]], pd.get_dummies(df.iloc[:,[4]]), pd.get_dummies(df.iloc[:,[6]])], axis=1)\n",
    "\n",
    "# add the state, make and model to the feature set (commented out because this uses up *a lot* of RAM)\n",
    "# X = pd.concat([df.iloc[:,[1,2]], pd.get_dummies(df.iloc[:,[4]]), pd.get_dummies(df.iloc[:,[6]]), pd.get_dummies(df.iloc[:,[7]])], axis=1)\n",
    "\n",
    "# run five-fold cross-validation over our new X and the old y\n",
    "rmse_values = five_fold(X, y)\n",
    "\n",
    "# calculate the mean\n",
    "rmse_mean = sum(rmse_values) / len(rmse_values)\n",
    "\n",
    "print(\"calculated RMSE mean:\", rmse_mean)"
   ]
  },
  {
   "cell_type": "code",
   "execution_count": 5,
   "id": "897beded",
   "metadata": {},
   "outputs": [],
   "source": [
    "# EXERCISE 1.2 c)\n",
    "\n",
    "# One feature could be the population density for a given city. Low population\n",
    "# densities often lead to inhabitants being more dependent on their car as\n",
    "# public transport is often rare and unreliable and locations like workplace\n",
    "# or shopping centers very far away. The increased car dependence could\n",
    "# therefore lead to higher prices due to high demand.\n",
    "# Another feature could be whether the car manufacturer still exists or when it\n",
    "# has stopped existing. Cars from manufacturers that have been bankrupt or\n",
    "# otherwise haven't produced cars for a very long time are rarer and could\n",
    "# therefore be more expensive.\n",
    "# The last feature could be the capacity of the battery, though this only\n",
    "# applies to battery electric cars. Cars with a higher capacity battery are\n",
    "# likely to be more expensive."
   ]
  },
  {
   "cell_type": "code",
   "execution_count": 6,
   "id": "c2ebe09d",
   "metadata": {},
   "outputs": [],
   "source": [
    "# EXERCISE 1.2 d)\n",
    "# The RSME can get closer to zero by adding more and more features, though this\n",
    "# can lead to undesirable overfitting. One could also add the identification\n",
    "# number (VIN) to the dataset which would reduce RSME significantly but would\n",
    "# also create a huge amount of overfitting, making the model close to useless\n",
    "# for data other than the training data itself."
   ]
  }
 ],
 "metadata": {
  "kernelspec": {
   "display_name": "Python 3 (ipykernel)",
   "language": "python",
   "name": "python3"
  },
  "language_info": {
   "codemirror_mode": {
    "name": "ipython",
    "version": 3
   },
   "file_extension": ".py",
   "mimetype": "text/x-python",
   "name": "python",
   "nbconvert_exporter": "python",
   "pygments_lexer": "ipython3",
   "version": "3.11.3"
  }
 },
 "nbformat": 4,
 "nbformat_minor": 5
}
